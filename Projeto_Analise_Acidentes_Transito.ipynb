{
 "cells": [
  {
   "cell_type": "markdown",
   "id": "650f4c51",
   "metadata": {},
   "source": [
    "# Projeto de Análise de Dados: Acidentes de Trânsito no Brasil"
   ]
  },
  {
   "cell_type": "markdown",
   "id": "a23b0a40",
   "metadata": {},
   "source": [
    "\n",
    "## ✅ Resumo do Projeto\n",
    "\n",
    "📌 O objetivo deste projeto foi responder perguntas de negócio sobre a segurança viária no Brasil, utilizando dados públicos de acidentes de trânsito. Através de análise exploratória de dados e visualização interativa, buscamos identificar padrões, comportamentos críticos e insights relevantes para auxiliar na prevenção e redução de acidentes.\n",
    "\n",
    "Este foi um projeto desafiador pois foi desenvolvido no Linux Ubuntu 22.04, inicializado através de virtualização pelo Oracle VM VirtualBox instalado em uma máquina com Windows 11.\n"
   ]
  },
  {
   "cell_type": "markdown",
   "id": "8a36066c",
   "metadata": {},
   "source": [
    "\n",
    "## 🛠️ Tecnologias e Ferramentas Utilizadas\n",
    "\n",
    "- Python 3.11 com Anaconda  \n",
    "- Pandas e NumPy para análise exploratória  \n",
    "- Matplotlib e Seaborn para gráficos estatísticos  \n",
    "- Plotly para visualização interativa  \n",
    "- SQLAlchemy + MySQL para gerenciamento relacional dos dados  \n",
    "- PandaSQL para executar consultas SQL diretamente sobre DataFrames  \n",
    "- Docker para executar o MySQL em ambiente isolado  \n",
    "- Jupyter Notebook como ambiente de desenvolvimento  \n"
   ]
  },
  {
   "cell_type": "markdown",
   "id": "16337acd",
   "metadata": {},
   "source": [
    "\n",
    "## 🧪 Etapas do Projeto\n",
    "\n",
    "- O projeto teve início baixando um dataset do Microsoft Excel do link: [MakeoverMonday 2018w51](https://data.world/makeovermonday/2018w51)\n",
    "- O dataset foi carregado através do pacote Pandas, que também foi usado para análise exploratória, em formato de DataFrame.\n",
    "- A biblioteca SQLAlchemy foi utilizada para criar uma tabela no SGBD MySQL, criar o dicionário de dados e popular esta tabela a partir do DataFrame do Pandas.\n",
    "- Para extração dos dados do MySQL foi usada a biblioteca PandaSQL e o SQLAlchemy como conector com Python.\n",
    "- O MySQL é executado a partir de um container Docker.\n",
    "- As 10 perguntas de negócio foram respondidas usando queries pelo SparkSQL, que alimentaram gráficos gerados com Plotly.\n"
   ]
  },
  {
   "cell_type": "markdown",
   "id": "92dc9d8a",
   "metadata": {},
   "source": [
    "\n",
    "### 📄 Guias Complementares\n",
    "\n",
    "- Guia para a instalação do Docker: https://github.com/EvandroCleto/Projeto03_V3_Analise_Risco_Transporte/blob/main/Guia_Instalacao_Docker_Linux.txt\n",
    "- Guia para instalação do container MySQL: https://github.com/EvandroCleto/Projeto03_V3_Analise_Risco_Transporte/blob/main/Guia_Instalacao_MySQL_Docker.txt\n",
    "- Acesse o fonte do projeto original: https://github.com/EvandroCleto/Projeto03_V3_Analise_Risco_Transporte/blob/main/Projeto03_V3_Risco_Transp.ipynb\n"
   ]
  }
 ],
 "metadata": {},
 "nbformat": 4,
 "nbformat_minor": 5
}
