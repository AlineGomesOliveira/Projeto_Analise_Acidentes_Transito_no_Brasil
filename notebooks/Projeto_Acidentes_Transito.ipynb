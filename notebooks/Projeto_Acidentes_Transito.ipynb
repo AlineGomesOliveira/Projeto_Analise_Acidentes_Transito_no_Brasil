{
 "cells": [
  {
   "cell_type": "markdown",
   "id": "fa81c6d3",
   "metadata": {},
   "source": [
    "# Projeto: Análise de Acidentes de Trânsito no Brasil com SparkSQL e Dashboards"
   ]
  },
  {
   "cell_type": "markdown",
   "id": "f35a2d32",
   "metadata": {},
   "source": [
    "## 1. Introdução\n",
    "O projeto teve início com o download de um dataset em formato Microsoft Excel a partir do link:  \n",
    "https://data.world/makeovermonday/2018w51  \n",
    "Esse processo foi realizado em um ambiente Linux Ubuntu 22.04, com instalação do Anaconda Python para facilitar o gerenciamento de pacotes e ambientes virtuais."
   ]
  },
  {
   "cell_type": "markdown",
   "id": "75c1a690",
   "metadata": {},
   "source": [
    "## 2. Carregamento e visualização inicial dos dados"
   ]
  },
  {
   "cell_type": "markdown",
   "id": "d62eb665",
   "metadata": {},
   "source": [
    "## 3. Análise exploratória"
   ]
  },
  {
   "cell_type": "markdown",
   "id": "40863fd7",
   "metadata": {},
   "source": [
    "## 4. Criação do banco de dados MySQL com SQLAlchemy"
   ]
  },
  {
   "cell_type": "markdown",
   "id": "1726aada",
   "metadata": {},
   "source": [
    "## 5. Consultas com PandaSQL"
   ]
  },
  {
   "cell_type": "markdown",
   "id": "15156965",
   "metadata": {},
   "source": [
    "## 6. Consultas com SparkSQL"
   ]
  },
  {
   "cell_type": "markdown",
   "id": "e53416a0",
   "metadata": {},
   "source": [
    "## 7. Visualizações com Plotly"
   ]
  },
  {
   "cell_type": "markdown",
   "id": "4163a1d5",
   "metadata": {},
   "source": [
    "## 8. Conclusão"
   ]
  }
 ],
 "metadata": {},
 "nbformat": 4,
 "nbformat_minor": 5
}
